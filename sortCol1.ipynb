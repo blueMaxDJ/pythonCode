{
 "cells": [
  {
   "cell_type": "code",
   "execution_count": null,
   "metadata": {},
   "outputs": [],
   "source": [
    "\n",
    "def sortArr(a):\n",
    "    hCount = findHead(a)\n",
    "    tCount = findTail(a)\n",
    "\n",
    "    for i in range(len(a)):\n",
    "        if (a[i] == 0):\n",
    "            if (i > hCount):\n",
    "                a = swap(a, i, hCount)\n",
    "        elif (a[i] == 2):\n",
    "            if (i < tCount):\n",
    "                a = swap(a, i, tCount)\n",
    "                # Special case when you swapped 0 and 2\n",
    "                if ( a[i] == 0):\n",
    "                    a = swap(a, i, hCount)\n",
    "        hCount = findHead(a)    \n",
    "        tCount = findTail(a)\n",
    "    print(a)\n",
    "    \n",
    "# Dont judge me on swap implementation\n",
    "def swap(a, pos1, pos2):\n",
    "    t = a[pos1]\n",
    "    a[pos1] = a[pos2]\n",
    "    a[pos2] = t\n",
    "    return a\n",
    "\n",
    "def findHead(a):\n",
    "    hCount = 0\n",
    "    while (a[hCount] == 0):\n",
    "        hCount += 1\n",
    "    # head = a[hCount]\n",
    "    return hCount\n",
    "\n",
    "def findTail(a):\n",
    "    tCount = len(a) - 1\n",
    "    while(a[tCount] == 2):\n",
    "        tCount = tCount - 1\n",
    "    # tail = a[tCount]\n",
    "    return tCount\n",
    "\n",
    "a = [0,1,0,1,2,1,2,0,0,2,1,2,1,2,0,1,2,0,2]\n",
    "sortArr(a)"
   ]
  }
 ],
 "metadata": {
  "kernelspec": {
   "display_name": "Python 3",
   "language": "python",
   "name": "python3"
  },
  "language_info": {
   "codemirror_mode": {
    "name": "ipython",
    "version": 3
   },
   "file_extension": ".py",
   "mimetype": "text/x-python",
   "name": "python",
   "nbconvert_exporter": "python",
   "pygments_lexer": "ipython3",
   "version": "3.6.7"
  }
 },
 "nbformat": 4,
 "nbformat_minor": 2
}
